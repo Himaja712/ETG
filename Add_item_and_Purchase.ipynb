{
  "nbformat": 4,
  "nbformat_minor": 0,
  "metadata": {
    "colab": {
      "name": "Add item and Purchase.ipynb",
      "provenance": []
    },
    "kernelspec": {
      "name": "python3",
      "display_name": "Python 3"
    },
    "language_info": {
      "name": "python"
    }
  },
  "cells": [
    {
      "cell_type": "code",
      "metadata": {
        "id": "Cy-p2ClHgeZz"
      },
      "source": [
        "fd = open(\"record[1].json\",'r')\n",
        "txt = fd.read()\n",
        "fd.close()"
      ],
      "execution_count": 2,
      "outputs": []
    },
    {
      "cell_type": "code",
      "metadata": {
        "colab": {
          "base_uri": "https://localhost:8080/",
          "height": 86
        },
        "id": "pyxsSncQgxfI",
        "outputId": "1c441def-a4bb-4e3a-d070-be957f844f08"
      },
      "source": [
        "txt"
      ],
      "execution_count": 3,
      "outputs": [
        {
          "output_type": "execute_result",
          "data": {
            "application/vnd.google.colaboratory.intrinsic+json": {
              "type": "string"
            },
            "text/plain": [
              "'{\"1001\": {\"name\": \"Choco Cake\", \"qn\": 34, \"pr\": 100}, \"1002\": {\"name\": \"Milk Cake\", \"pr\": 800, \"qn\": 100}, \"1003\": {\"name\": \"Drink\", \"pr\": 85, \"qn\": 100}, \"1004\": {\"name\": \"Candy\", \"pr\": 5, \"qn\": 1000}, \"1005\": {\"name\": \"Pen\", \"pr\": 20, \"qn\": 100}, \"1006\": {\"name\": \"Phone\", \"pr\": 50000, \"qn\": 10}, \"1007\": {\"name\": \"Mic\", \"pr\": 1500, \"qn\": 0}, \"1008\": {\"name\": \"Case\", \"pr\": 599, \"qn\": 5}, \"1009\": {\"name\": \"Keyboard\", \"pr\": 1999, \"qn\": 10}}'"
            ]
          },
          "metadata": {},
          "execution_count": 3
        }
      ]
    },
    {
      "cell_type": "code",
      "metadata": {
        "id": "Caac8NSBg2lz"
      },
      "source": [
        "import json\n",
        "records = json.loads(txt)"
      ],
      "execution_count": 4,
      "outputs": []
    },
    {
      "cell_type": "code",
      "metadata": {
        "colab": {
          "base_uri": "https://localhost:8080/"
        },
        "id": "Ng180Wwxg5Na",
        "outputId": "9def1da7-51e4-4039-a0fe-a333f62da115"
      },
      "source": [
        "records"
      ],
      "execution_count": 5,
      "outputs": [
        {
          "output_type": "execute_result",
          "data": {
            "text/plain": [
              "{'1001': {'name': 'Choco Cake', 'pr': 100, 'qn': 34},\n",
              " '1002': {'name': 'Milk Cake', 'pr': 800, 'qn': 100},\n",
              " '1003': {'name': 'Drink', 'pr': 85, 'qn': 100},\n",
              " '1004': {'name': 'Candy', 'pr': 5, 'qn': 1000},\n",
              " '1005': {'name': 'Pen', 'pr': 20, 'qn': 100},\n",
              " '1006': {'name': 'Phone', 'pr': 50000, 'qn': 10},\n",
              " '1007': {'name': 'Mic', 'pr': 1500, 'qn': 0},\n",
              " '1008': {'name': 'Case', 'pr': 599, 'qn': 5},\n",
              " '1009': {'name': 'Keyboard', 'pr': 1999, 'qn': 10}}"
            ]
          },
          "metadata": {},
          "execution_count": 5
        }
      ]
    },
    {
      "cell_type": "code",
      "metadata": {
        "colab": {
          "base_uri": "https://localhost:8080/"
        },
        "id": "iAEEjWK9g8vT",
        "outputId": "b722bf9d-a43c-4c1e-cf90-865528b90ed8"
      },
      "source": [
        "#ADD NEW ITEMS\n",
        "\n",
        "prod_id = str(input(\"Enter the product id: \"))\n",
        "prod_name = str(input(\"Enter the product name: \"))\n",
        "prod_pr = int(input(\"Enter the price of product: \"))\n",
        "prod_qn = int(input(\"Enter the quantity of the product: \"))\n",
        "\n",
        "records[prod_id] = {'name' : prod_name, 'pr' : prod_pr, 'qn' : prod_qn}\n",
        "\n",
        "records"
      ],
      "execution_count": 6,
      "outputs": [
        {
          "name": "stdout",
          "output_type": "stream",
          "text": [
            "Enter the product id: 1010\n",
            "Enter the product name: Rose\n",
            "Enter the price of product: 20\n",
            "Enter the quantity of the product: 40\n"
          ]
        },
        {
          "output_type": "execute_result",
          "data": {
            "text/plain": [
              "{'1001': {'name': 'Choco Cake', 'pr': 100, 'qn': 34},\n",
              " '1002': {'name': 'Milk Cake', 'pr': 800, 'qn': 100},\n",
              " '1003': {'name': 'Drink', 'pr': 85, 'qn': 100},\n",
              " '1004': {'name': 'Candy', 'pr': 5, 'qn': 1000},\n",
              " '1005': {'name': 'Pen', 'pr': 20, 'qn': 100},\n",
              " '1006': {'name': 'Phone', 'pr': 50000, 'qn': 10},\n",
              " '1007': {'name': 'Mic', 'pr': 1500, 'qn': 0},\n",
              " '1008': {'name': 'Case', 'pr': 599, 'qn': 5},\n",
              " '1009': {'name': 'Keyboard', 'pr': 1999, 'qn': 10},\n",
              " '1010': {'name': 'Rose', 'pr': 20, 'qn': 40}}"
            ]
          },
          "metadata": {},
          "execution_count": 6
        }
      ]
    },
    {
      "cell_type": "code",
      "metadata": {
        "colab": {
          "base_uri": "https://localhost:8080/"
        },
        "id": "ArNaF0oThUeg",
        "outputId": "bb1cf3cb-4092-47a9-b2f0-079b5e245068"
      },
      "source": [
        "###QUANTITY * 100\n",
        "\n",
        "prod_id = str(input(\"Enter the product id: \"))\n",
        "prod_name = str(input(\"Enter the product name: \"))\n",
        "prod_pr = int(input(\"Enter the price of product: \"))\n",
        "prod_qn = int(input(\"Enter the quantity of the product: \"))\n",
        "\n",
        "\n",
        "records[prod_id] = {'name' : prod_name, 'pr' : prod_pr, 'qn' : prod_qn *100}\n",
        "\n",
        "records"
      ],
      "execution_count": 7,
      "outputs": [
        {
          "name": "stdout",
          "output_type": "stream",
          "text": [
            "Enter the product id: 1010\n",
            "Enter the product name: Rose\n",
            "Enter the price of product: 20\n",
            "Enter the quantity of the product: 40\n"
          ]
        },
        {
          "output_type": "execute_result",
          "data": {
            "text/plain": [
              "{'1001': {'name': 'Choco Cake', 'pr': 100, 'qn': 34},\n",
              " '1002': {'name': 'Milk Cake', 'pr': 800, 'qn': 100},\n",
              " '1003': {'name': 'Drink', 'pr': 85, 'qn': 100},\n",
              " '1004': {'name': 'Candy', 'pr': 5, 'qn': 1000},\n",
              " '1005': {'name': 'Pen', 'pr': 20, 'qn': 100},\n",
              " '1006': {'name': 'Phone', 'pr': 50000, 'qn': 10},\n",
              " '1007': {'name': 'Mic', 'pr': 1500, 'qn': 0},\n",
              " '1008': {'name': 'Case', 'pr': 599, 'qn': 5},\n",
              " '1009': {'name': 'Keyboard', 'pr': 1999, 'qn': 10},\n",
              " '1010': {'name': 'Rose', 'pr': 20, 'qn': 4000}}"
            ]
          },
          "metadata": {},
          "execution_count": 7
        }
      ]
    },
    {
      "cell_type": "code",
      "metadata": {
        "colab": {
          "base_uri": "https://localhost:8080/"
        },
        "id": "pAJHk-tkhw6T",
        "outputId": "fbea5155-305f-4fdb-a7cd-226cd8049c8c"
      },
      "source": [
        "#UPDATE THE INVENTARY\n",
        "\n",
        "prod_id = str(input(\"Enter the product id: \"))\n",
        "prod_name = str(input(\"Enter the product name: \"))\n",
        "prod_pr = int(input(\"Enter the price of product: \"))\n",
        "prod_qn = int(input(\"Enter the quantity of the product: \"))\n",
        "\n",
        "records[prod_id] = {'name' : prod_name, 'pr' : prod_pr, 'qn' : prod_qn}\n",
        "\n",
        "js = json.dumps(records)\n",
        "\n",
        "fd = open(\"record[1].json\",'w')\n",
        "fd.write(js)\n",
        "fd.close()\n",
        "\n",
        "records"
      ],
      "execution_count": 29,
      "outputs": [
        {
          "name": "stdout",
          "output_type": "stream",
          "text": [
            "Enter the product id: 1030\n",
            "Enter the product name: Lobsters\n",
            "Enter the price of product: 720\n",
            "Enter the quantity of the product: 100\n"
          ]
        },
        {
          "output_type": "execute_result",
          "data": {
            "text/plain": [
              "{'1001': {'name': 'Choco Cake', 'pr': 100, 'qn': 34},\n",
              " '1002': {'name': 'Milk Cake', 'pr': 800, 'qn': 100},\n",
              " '1003': {'name': 'Drink', 'pr': 85, 'qn': 100},\n",
              " '1004': {'name': 'Candy', 'pr': 5, 'qn': 1000},\n",
              " '1005': {'name': 'Pen', 'pr': 20, 'qn': 100},\n",
              " '1006': {'name': 'Phone', 'pr': 50000, 'qn': 10},\n",
              " '1007': {'name': 'Mic', 'pr': 1500, 'qn': 0},\n",
              " '1008': {'name': 'Case', 'pr': 599, 'qn': 5},\n",
              " '1009': {'name': 'Keyboard', 'pr': 1999, 'qn': 10},\n",
              " '1010': {'name': 'Rose', 'pr': 20, 'qn': 4000},\n",
              " '1011': {'name': 'Tulip', 'pr': 30, 'qn': 40},\n",
              " '1012': {'name': 'Lily', 'pr': 30, 'qn': 50},\n",
              " '1013': {'name': 'Sunflower', 'pr': 30, 'qn': 100},\n",
              " '1014': {'name': 'Daisy', 'pr': 50, 'qn': 50},\n",
              " '1015': {'name': 'Jasmine', 'pr': 50, 'qn': 20},\n",
              " '1016': {'name': 'Orchid', 'pr': 80, 'qn': 100},\n",
              " '1017': {'name': 'lavendars', 'pr': 70, 'qn': 80},\n",
              " '1018': {'name': 'Potato', 'pr': 30, 'qn': 100},\n",
              " '1019': {'name': 'Onions', 'pr': 50, 'qn': 100},\n",
              " '1020': {'name': 'Tomato', 'pr': 60, 'qn': 100},\n",
              " '1021': {'name': 'garlic', 'pr': 20, 'qn': 80},\n",
              " '1022': {'name': 'ginger', 'pr': 10, 'qn': 50},\n",
              " '1023': {'name': 'Peas', 'pr': 30, 'qn': 100},\n",
              " '1024': {'name': 'Carrot', 'pr': 40, 'qn': 10},\n",
              " '1025': {'name': 'Paneer', 'pr': 120, 'qn': 70},\n",
              " '1026': {'name': 'Butter', 'pr': 140, 'qn': 50},\n",
              " '1027': {'name': 'Chicken', 'pr': 200, 'qn': 50},\n",
              " '1028': {'name': 'Prawns', 'pr': 900, 'qn': 50},\n",
              " '1029': {'name': 'Fish', 'pr': 300, 'qn': 100},\n",
              " '1030': {'name': 'Lobsters', 'pr': 720, 'qn': 100}}"
            ]
          },
          "metadata": {},
          "execution_count": 29
        }
      ]
    },
    {
      "cell_type": "code",
      "metadata": {
        "id": "c0hlQCHTkpCI"
      },
      "source": [
        "fd = open(\"record[1].json\",'r')\n",
        "txt = fd.read()\n",
        "fd.close()"
      ],
      "execution_count": 30,
      "outputs": []
    },
    {
      "cell_type": "code",
      "metadata": {
        "colab": {
          "base_uri": "https://localhost:8080/",
          "height": 171
        },
        "id": "iFYzmxsRkr8x",
        "outputId": "e5b8bf0e-04f8-4046-face-0cbbc11c0a05"
      },
      "source": [
        "txt"
      ],
      "execution_count": 31,
      "outputs": [
        {
          "output_type": "execute_result",
          "data": {
            "application/vnd.google.colaboratory.intrinsic+json": {
              "type": "string"
            },
            "text/plain": [
              "'{\"1001\": {\"name\": \"Choco Cake\", \"qn\": 34, \"pr\": 100}, \"1002\": {\"name\": \"Milk Cake\", \"pr\": 800, \"qn\": 100}, \"1003\": {\"name\": \"Drink\", \"pr\": 85, \"qn\": 100}, \"1004\": {\"name\": \"Candy\", \"pr\": 5, \"qn\": 1000}, \"1005\": {\"name\": \"Pen\", \"pr\": 20, \"qn\": 100}, \"1006\": {\"name\": \"Phone\", \"pr\": 50000, \"qn\": 10}, \"1007\": {\"name\": \"Mic\", \"pr\": 1500, \"qn\": 0}, \"1008\": {\"name\": \"Case\", \"pr\": 599, \"qn\": 5}, \"1009\": {\"name\": \"Keyboard\", \"pr\": 1999, \"qn\": 10}, \"1010\": {\"name\": \"Rose\", \"pr\": 20, \"qn\": 4000}, \"1011\": {\"name\": \"Tulip\", \"pr\": 30, \"qn\": 40}, \"1012\": {\"name\": \"Lily\", \"pr\": 30, \"qn\": 50}, \"1013\": {\"name\": \"Sunflower\", \"pr\": 30, \"qn\": 100}, \"1014\": {\"name\": \"Daisy\", \"pr\": 50, \"qn\": 50}, \"1015\": {\"name\": \"Jasmine\", \"pr\": 50, \"qn\": 20}, \"1016\": {\"name\": \"Orchid\", \"pr\": 80, \"qn\": 100}, \"1017\": {\"name\": \"lavendars\", \"pr\": 70, \"qn\": 80}, \"1018\": {\"name\": \"Potato\", \"pr\": 30, \"qn\": 100}, \"1019\": {\"name\": \"Onions\", \"pr\": 50, \"qn\": 100}, \"1020\": {\"name\": \"Tomato\", \"pr\": 60, \"qn\": 100}, \"1021\": {\"name\": \"garlic\", \"pr\": 20, \"qn\": 80}, \"1022\": {\"name\": \"ginger\", \"pr\": 10, \"qn\": 50}, \"1023\": {\"name\": \"Peas\", \"pr\": 30, \"qn\": 100}, \"1024\": {\"name\": \"Carrot\", \"pr\": 40, \"qn\": 10}, \"1025\": {\"name\": \"Paneer\", \"pr\": 120, \"qn\": 70}, \"1026\": {\"name\": \"Butter\", \"pr\": 140, \"qn\": 50}, \"1027\": {\"name\": \"Chicken\", \"pr\": 200, \"qn\": 50}, \"1028\": {\"name\": \"Prawns\", \"pr\": 900, \"qn\": 50}, \"1029\": {\"name\": \"Fish\", \"pr\": 300, \"qn\": 100}, \"1030\": {\"name\": \"Lobsters\", \"pr\": 720, \"qn\": 100}}'"
            ]
          },
          "metadata": {},
          "execution_count": 31
        }
      ]
    },
    {
      "cell_type": "code",
      "metadata": {
        "colab": {
          "base_uri": "https://localhost:8080/"
        },
        "id": "y58QS3Muk2dZ",
        "outputId": "44537f54-158f-461e-fbfe-a989256cd48e"
      },
      "source": [
        "import json\n",
        "records = json.loads(txt)\n",
        "records"
      ],
      "execution_count": 32,
      "outputs": [
        {
          "output_type": "execute_result",
          "data": {
            "text/plain": [
              "{'1001': {'name': 'Choco Cake', 'pr': 100, 'qn': 34},\n",
              " '1002': {'name': 'Milk Cake', 'pr': 800, 'qn': 100},\n",
              " '1003': {'name': 'Drink', 'pr': 85, 'qn': 100},\n",
              " '1004': {'name': 'Candy', 'pr': 5, 'qn': 1000},\n",
              " '1005': {'name': 'Pen', 'pr': 20, 'qn': 100},\n",
              " '1006': {'name': 'Phone', 'pr': 50000, 'qn': 10},\n",
              " '1007': {'name': 'Mic', 'pr': 1500, 'qn': 0},\n",
              " '1008': {'name': 'Case', 'pr': 599, 'qn': 5},\n",
              " '1009': {'name': 'Keyboard', 'pr': 1999, 'qn': 10},\n",
              " '1010': {'name': 'Rose', 'pr': 20, 'qn': 4000},\n",
              " '1011': {'name': 'Tulip', 'pr': 30, 'qn': 40},\n",
              " '1012': {'name': 'Lily', 'pr': 30, 'qn': 50},\n",
              " '1013': {'name': 'Sunflower', 'pr': 30, 'qn': 100},\n",
              " '1014': {'name': 'Daisy', 'pr': 50, 'qn': 50},\n",
              " '1015': {'name': 'Jasmine', 'pr': 50, 'qn': 20},\n",
              " '1016': {'name': 'Orchid', 'pr': 80, 'qn': 100},\n",
              " '1017': {'name': 'lavendars', 'pr': 70, 'qn': 80},\n",
              " '1018': {'name': 'Potato', 'pr': 30, 'qn': 100},\n",
              " '1019': {'name': 'Onions', 'pr': 50, 'qn': 100},\n",
              " '1020': {'name': 'Tomato', 'pr': 60, 'qn': 100},\n",
              " '1021': {'name': 'garlic', 'pr': 20, 'qn': 80},\n",
              " '1022': {'name': 'ginger', 'pr': 10, 'qn': 50},\n",
              " '1023': {'name': 'Peas', 'pr': 30, 'qn': 100},\n",
              " '1024': {'name': 'Carrot', 'pr': 40, 'qn': 10},\n",
              " '1025': {'name': 'Paneer', 'pr': 120, 'qn': 70},\n",
              " '1026': {'name': 'Butter', 'pr': 140, 'qn': 50},\n",
              " '1027': {'name': 'Chicken', 'pr': 200, 'qn': 50},\n",
              " '1028': {'name': 'Prawns', 'pr': 900, 'qn': 50},\n",
              " '1029': {'name': 'Fish', 'pr': 300, 'qn': 100},\n",
              " '1030': {'name': 'Lobsters', 'pr': 720, 'qn': 100}}"
            ]
          },
          "metadata": {},
          "execution_count": 32
        }
      ]
    },
    {
      "cell_type": "code",
      "metadata": {
        "colab": {
          "base_uri": "https://localhost:8080/"
        },
        "id": "SGRQ3qbflH1U",
        "outputId": "1ba51531-d63b-47bc-878a-e412858198f4"
      },
      "source": [
        "#PURCHASE\n",
        "\n",
        "prod_id = str(input(\"Enter the product id: \"))\n",
        "prod_qnty = int(input(\"Enter the product quantity: \"))\n",
        "print(\"*********************\")\n",
        "print(\"Product name: \",records[prod_id]['name'])\n",
        "print(\"Price: \",records[prod_id]['pr'])\n",
        "print(\"---------------------\")\n",
        "print(\"Amount: \",records[prod_id]['pr']*prod_qnty)\n",
        "print(\"*********************\")\n",
        "\n",
        "records[prod_id]['qn'] = records[prod_id]['qn'] - prod_qnty\n",
        "\n",
        "records"
      ],
      "execution_count": 33,
      "outputs": [
        {
          "output_type": "stream",
          "name": "stdout",
          "text": [
            "Enter the product id: 1030\n",
            "Enter the product quantity: 5\n",
            "*********************\n",
            "Product name:  Lobsters\n",
            "Price:  720\n",
            "---------------------\n",
            "Amount:  3600\n",
            "*********************\n"
          ]
        },
        {
          "output_type": "execute_result",
          "data": {
            "text/plain": [
              "{'1001': {'name': 'Choco Cake', 'pr': 100, 'qn': 34},\n",
              " '1002': {'name': 'Milk Cake', 'pr': 800, 'qn': 100},\n",
              " '1003': {'name': 'Drink', 'pr': 85, 'qn': 100},\n",
              " '1004': {'name': 'Candy', 'pr': 5, 'qn': 1000},\n",
              " '1005': {'name': 'Pen', 'pr': 20, 'qn': 100},\n",
              " '1006': {'name': 'Phone', 'pr': 50000, 'qn': 10},\n",
              " '1007': {'name': 'Mic', 'pr': 1500, 'qn': 0},\n",
              " '1008': {'name': 'Case', 'pr': 599, 'qn': 5},\n",
              " '1009': {'name': 'Keyboard', 'pr': 1999, 'qn': 10},\n",
              " '1010': {'name': 'Rose', 'pr': 20, 'qn': 4000},\n",
              " '1011': {'name': 'Tulip', 'pr': 30, 'qn': 40},\n",
              " '1012': {'name': 'Lily', 'pr': 30, 'qn': 50},\n",
              " '1013': {'name': 'Sunflower', 'pr': 30, 'qn': 100},\n",
              " '1014': {'name': 'Daisy', 'pr': 50, 'qn': 50},\n",
              " '1015': {'name': 'Jasmine', 'pr': 50, 'qn': 20},\n",
              " '1016': {'name': 'Orchid', 'pr': 80, 'qn': 100},\n",
              " '1017': {'name': 'lavendars', 'pr': 70, 'qn': 80},\n",
              " '1018': {'name': 'Potato', 'pr': 30, 'qn': 100},\n",
              " '1019': {'name': 'Onions', 'pr': 50, 'qn': 100},\n",
              " '1020': {'name': 'Tomato', 'pr': 60, 'qn': 100},\n",
              " '1021': {'name': 'garlic', 'pr': 20, 'qn': 80},\n",
              " '1022': {'name': 'ginger', 'pr': 10, 'qn': 50},\n",
              " '1023': {'name': 'Peas', 'pr': 30, 'qn': 100},\n",
              " '1024': {'name': 'Carrot', 'pr': 40, 'qn': 10},\n",
              " '1025': {'name': 'Paneer', 'pr': 120, 'qn': 70},\n",
              " '1026': {'name': 'Butter', 'pr': 140, 'qn': 50},\n",
              " '1027': {'name': 'Chicken', 'pr': 200, 'qn': 50},\n",
              " '1028': {'name': 'Prawns', 'pr': 900, 'qn': 50},\n",
              " '1029': {'name': 'Fish', 'pr': 300, 'qn': 100},\n",
              " '1030': {'name': 'Lobsters', 'pr': 720, 'qn': 95}}"
            ]
          },
          "metadata": {},
          "execution_count": 33
        }
      ]
    },
    {
      "cell_type": "code",
      "metadata": {
        "id": "bhb61cKflUvd"
      },
      "source": [
        "js = json.dumps(records)\n",
        "\n",
        "fd = open(\"record[1].json\",'w')\n",
        "fd.write(js)\n",
        "fd.close()"
      ],
      "execution_count": 41,
      "outputs": []
    },
    {
      "cell_type": "code",
      "metadata": {
        "colab": {
          "base_uri": "https://localhost:8080/",
          "height": 171
        },
        "id": "RfRQDB-ylZ2r",
        "outputId": "3baa02e3-5903-4b9c-daf7-289d9830dbf6"
      },
      "source": [
        "fd = open(\"record[1].json\",'r')\n",
        "r = fd.read()\n",
        "fd.close()\n",
        "r"
      ],
      "execution_count": 42,
      "outputs": [
        {
          "output_type": "execute_result",
          "data": {
            "application/vnd.google.colaboratory.intrinsic+json": {
              "type": "string"
            },
            "text/plain": [
              "'{\"1001\": {\"name\": \"Choco Cake\", \"qn\": 34, \"pr\": 100}, \"1002\": {\"name\": \"Milk Cake\", \"pr\": 800, \"qn\": 100}, \"1003\": {\"name\": \"Drink\", \"pr\": 85, \"qn\": 100}, \"1004\": {\"name\": \"Candy\", \"pr\": 5, \"qn\": 1000}, \"1005\": {\"name\": \"Pen\", \"pr\": 20, \"qn\": 100}, \"1006\": {\"name\": \"Phone\", \"pr\": 50000, \"qn\": 10}, \"1007\": {\"name\": \"Mic\", \"pr\": 1500, \"qn\": 0}, \"1008\": {\"name\": \"Case\", \"pr\": 599, \"qn\": 5}, \"1009\": {\"name\": \"Keyboard\", \"pr\": 1999, \"qn\": 10}, \"1010\": {\"name\": \"Rose\", \"pr\": 20, \"qn\": 4000}, \"1011\": {\"name\": \"Tulip\", \"pr\": 30, \"qn\": 40}, \"1012\": {\"name\": \"Lily\", \"pr\": 30, \"qn\": 50}, \"1013\": {\"name\": \"Sunflower\", \"pr\": 30, \"qn\": 100}, \"1014\": {\"name\": \"Daisy\", \"pr\": 50, \"qn\": 50}, \"1015\": {\"name\": \"Jasmine\", \"pr\": 50, \"qn\": 20}, \"1016\": {\"name\": \"Orchid\", \"pr\": 80, \"qn\": 100}, \"1017\": {\"name\": \"lavendars\", \"pr\": 70, \"qn\": 80}, \"1018\": {\"name\": \"Potato\", \"pr\": 30, \"qn\": 100}, \"1019\": {\"name\": \"Onions\", \"pr\": 50, \"qn\": 100}, \"1020\": {\"name\": \"Tomato\", \"pr\": 60, \"qn\": 100}, \"1021\": {\"name\": \"garlic\", \"pr\": 20, \"qn\": 80}, \"1022\": {\"name\": \"ginger\", \"pr\": 10, \"qn\": 50}, \"1023\": {\"name\": \"Peas\", \"pr\": 30, \"qn\": 100}, \"1024\": {\"name\": \"Carrot\", \"pr\": 40, \"qn\": 10}, \"1025\": {\"name\": \"Paneer\", \"pr\": 120, \"qn\": 70}, \"1026\": {\"name\": \"Butter\", \"pr\": 140, \"qn\": 50}, \"1027\": {\"name\": \"Chicken\", \"pr\": 200, \"qn\": 50}, \"1028\": {\"name\": \"Prawns\", \"pr\": 900, \"qn\": 50}, \"1029\": {\"name\": \"Fish\", \"pr\": 300, \"qn\": 100}, \"1030\": {\"name\": \"Lobsters\", \"pr\": 720, \"qn\": 95}}'"
            ]
          },
          "metadata": {},
          "execution_count": 42
        }
      ]
    },
    {
      "cell_type": "code",
      "metadata": {
        "colab": {
          "base_uri": "https://localhost:8080/"
        },
        "id": "aJrN-U93lgv1",
        "outputId": "5df594bc-9ee9-4239-e9c5-bad6f7a52c23"
      },
      "source": [
        "import json\n",
        "records = json.loads(r)\n",
        "records"
      ],
      "execution_count": 43,
      "outputs": [
        {
          "output_type": "execute_result",
          "data": {
            "text/plain": [
              "{'1001': {'name': 'Choco Cake', 'pr': 100, 'qn': 34},\n",
              " '1002': {'name': 'Milk Cake', 'pr': 800, 'qn': 100},\n",
              " '1003': {'name': 'Drink', 'pr': 85, 'qn': 100},\n",
              " '1004': {'name': 'Candy', 'pr': 5, 'qn': 1000},\n",
              " '1005': {'name': 'Pen', 'pr': 20, 'qn': 100},\n",
              " '1006': {'name': 'Phone', 'pr': 50000, 'qn': 10},\n",
              " '1007': {'name': 'Mic', 'pr': 1500, 'qn': 0},\n",
              " '1008': {'name': 'Case', 'pr': 599, 'qn': 5},\n",
              " '1009': {'name': 'Keyboard', 'pr': 1999, 'qn': 10},\n",
              " '1010': {'name': 'Rose', 'pr': 20, 'qn': 4000},\n",
              " '1011': {'name': 'Tulip', 'pr': 30, 'qn': 40},\n",
              " '1012': {'name': 'Lily', 'pr': 30, 'qn': 50},\n",
              " '1013': {'name': 'Sunflower', 'pr': 30, 'qn': 100},\n",
              " '1014': {'name': 'Daisy', 'pr': 50, 'qn': 50},\n",
              " '1015': {'name': 'Jasmine', 'pr': 50, 'qn': 20},\n",
              " '1016': {'name': 'Orchid', 'pr': 80, 'qn': 100},\n",
              " '1017': {'name': 'lavendars', 'pr': 70, 'qn': 80},\n",
              " '1018': {'name': 'Potato', 'pr': 30, 'qn': 100},\n",
              " '1019': {'name': 'Onions', 'pr': 50, 'qn': 100},\n",
              " '1020': {'name': 'Tomato', 'pr': 60, 'qn': 100},\n",
              " '1021': {'name': 'garlic', 'pr': 20, 'qn': 80},\n",
              " '1022': {'name': 'ginger', 'pr': 10, 'qn': 50},\n",
              " '1023': {'name': 'Peas', 'pr': 30, 'qn': 100},\n",
              " '1024': {'name': 'Carrot', 'pr': 40, 'qn': 10},\n",
              " '1025': {'name': 'Paneer', 'pr': 120, 'qn': 70},\n",
              " '1026': {'name': 'Butter', 'pr': 140, 'qn': 50},\n",
              " '1027': {'name': 'Chicken', 'pr': 200, 'qn': 50},\n",
              " '1028': {'name': 'Prawns', 'pr': 900, 'qn': 50},\n",
              " '1029': {'name': 'Fish', 'pr': 300, 'qn': 100},\n",
              " '1030': {'name': 'Lobsters', 'pr': 720, 'qn': 95}}"
            ]
          },
          "metadata": {},
          "execution_count": 43
        }
      ]
    },
    {
      "cell_type": "code",
      "metadata": {
        "id": "hWAp6A56m2GE"
      },
      "source": [
        "sale = {}"
      ],
      "execution_count": 78,
      "outputs": []
    },
    {
      "cell_type": "code",
      "metadata": {
        "colab": {
          "base_uri": "https://localhost:8080/"
        },
        "id": "yY4xNQilm5OP",
        "outputId": "4d93a761-4b77-40f7-a9ae-4d231007cb96"
      },
      "source": [
        "#SALES\n",
        "prod_id = str(input(\"Enter the product id: \"))\n",
        "qnty = int(input(\"Enter the product quantity: \"))\n",
        "{(len(sale) + 1) : {'prod' : prod_id, 'qn' : qnty, 'amount' : records[prod_id]['pr']*qnty}}"
      ],
      "execution_count": 106,
      "outputs": [
        {
          "name": "stdout",
          "output_type": "stream",
          "text": [
            "Enter the product id: 1030\n",
            "Enter the product quantity: 5\n"
          ]
        },
        {
          "output_type": "execute_result",
          "data": {
            "text/plain": [
              "{10: {'amount': 3600, 'prod': '1030', 'qn': 5}}"
            ]
          },
          "metadata": {},
          "execution_count": 106
        }
      ]
    },
    {
      "cell_type": "code",
      "metadata": {
        "id": "t6xCduqUnWHQ"
      },
      "source": [
        "sale[(len(sale) + 1)] = {'prod' : prod_id, 'qn' : qnty, 'amount' : records[prod_id]['pr']*qnty}"
      ],
      "execution_count": 107,
      "outputs": []
    },
    {
      "cell_type": "code",
      "metadata": {
        "colab": {
          "base_uri": "https://localhost:8080/"
        },
        "id": "z5X5g93UnYO2",
        "outputId": "f388e121-1eb7-43c2-f6b2-1aa5d096c05f"
      },
      "source": [
        "sale\n"
      ],
      "execution_count": 108,
      "outputs": [
        {
          "output_type": "execute_result",
          "data": {
            "text/plain": [
              "{1: {'amount': 400, 'prod': '1001', 'qn': 4},\n",
              " 2: {'amount': 16000, 'prod': '1002', 'qn': 20},\n",
              " 3: {'amount': 40, 'prod': '1005', 'qn': 2},\n",
              " 4: {'amount': 100, 'prod': '1010', 'qn': 5},\n",
              " 5: {'amount': 150, 'prod': '1012', 'qn': 5},\n",
              " 6: {'amount': 500, 'prod': '1015', 'qn': 10},\n",
              " 7: {'amount': 1200, 'prod': '1020', 'qn': 20},\n",
              " 8: {'amount': 100, 'prod': '1021', 'qn': 5},\n",
              " 9: {'amount': 140, 'prod': '1026', 'qn': 1},\n",
              " 10: {'amount': 3600, 'prod': '1030', 'qn': 5}}"
            ]
          },
          "metadata": {},
          "execution_count": 108
        }
      ]
    },
    {
      "cell_type": "code",
      "metadata": {
        "id": "nmk6iHnrrN8a"
      },
      "source": [
        "js = json.dumps(sale)\n",
        "\n",
        "fd = open(\"sale.json\",'w')\n",
        "fd.write(js)\n",
        "fd.close()"
      ],
      "execution_count": 109,
      "outputs": []
    },
    {
      "cell_type": "code",
      "metadata": {
        "colab": {
          "base_uri": "https://localhost:8080/",
          "height": 86
        },
        "id": "X4-RoSLlrY-x",
        "outputId": "3cef757c-cb01-4181-8d27-fc4d49e666df"
      },
      "source": [
        "fd = open(\"sale.json\",'r')\n",
        "r = fd.read()\n",
        "fd.close()\n",
        "r"
      ],
      "execution_count": 110,
      "outputs": [
        {
          "output_type": "execute_result",
          "data": {
            "application/vnd.google.colaboratory.intrinsic+json": {
              "type": "string"
            },
            "text/plain": [
              "'{\"1\": {\"prod\": \"1001\", \"qn\": 4, \"amount\": 400}, \"2\": {\"prod\": \"1002\", \"qn\": 20, \"amount\": 16000}, \"3\": {\"prod\": \"1005\", \"qn\": 2, \"amount\": 40}, \"4\": {\"prod\": \"1010\", \"qn\": 5, \"amount\": 100}, \"5\": {\"prod\": \"1012\", \"qn\": 5, \"amount\": 150}, \"6\": {\"prod\": \"1015\", \"qn\": 10, \"amount\": 500}, \"7\": {\"prod\": \"1020\", \"qn\": 20, \"amount\": 1200}, \"8\": {\"prod\": \"1021\", \"qn\": 5, \"amount\": 100}, \"9\": {\"prod\": \"1026\", \"qn\": 1, \"amount\": 140}, \"10\": {\"prod\": \"1030\", \"qn\": 5, \"amount\": 3600}}'"
            ]
          },
          "metadata": {},
          "execution_count": 110
        }
      ]
    },
    {
      "cell_type": "code",
      "metadata": {
        "colab": {
          "base_uri": "https://localhost:8080/"
        },
        "id": "vfM0NXYVrhq4",
        "outputId": "cbd26622-bfc2-4496-aa5e-159463a2d04d"
      },
      "source": [
        "import json\n",
        "sale = json.loads(r)\n",
        "sale"
      ],
      "execution_count": 111,
      "outputs": [
        {
          "output_type": "execute_result",
          "data": {
            "text/plain": [
              "{'1': {'amount': 400, 'prod': '1001', 'qn': 4},\n",
              " '10': {'amount': 3600, 'prod': '1030', 'qn': 5},\n",
              " '2': {'amount': 16000, 'prod': '1002', 'qn': 20},\n",
              " '3': {'amount': 40, 'prod': '1005', 'qn': 2},\n",
              " '4': {'amount': 100, 'prod': '1010', 'qn': 5},\n",
              " '5': {'amount': 150, 'prod': '1012', 'qn': 5},\n",
              " '6': {'amount': 500, 'prod': '1015', 'qn': 10},\n",
              " '7': {'amount': 1200, 'prod': '1020', 'qn': 20},\n",
              " '8': {'amount': 100, 'prod': '1021', 'qn': 5},\n",
              " '9': {'amount': 140, 'prod': '1026', 'qn': 1}}"
            ]
          },
          "metadata": {},
          "execution_count": 111
        }
      ]
    }
  ]
}